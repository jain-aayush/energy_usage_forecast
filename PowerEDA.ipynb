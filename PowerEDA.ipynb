{
 "cells": [
  {
   "cell_type": "code",
   "execution_count": 1,
   "metadata": {},
   "outputs": [],
   "source": [
    "import pandas as pd\n",
    "import numpy as np\n",
    "import matplotlib.pyplot as plt\n",
    "from pandas.tseries.holiday import (\n",
    "    AbstractHolidayCalendar, DateOffset, EasterMonday,\n",
    "    GoodFriday, Holiday, MO,\n",
    "    next_monday, next_monday_or_tuesday)"
   ]
  },
  {
   "cell_type": "code",
   "execution_count": 2,
   "metadata": {},
   "outputs": [
    {
     "data": {
      "text/html": [
       "<div>\n",
       "<style scoped>\n",
       "    .dataframe tbody tr th:only-of-type {\n",
       "        vertical-align: middle;\n",
       "    }\n",
       "\n",
       "    .dataframe tbody tr th {\n",
       "        vertical-align: top;\n",
       "    }\n",
       "\n",
       "    .dataframe thead th {\n",
       "        text-align: right;\n",
       "    }\n",
       "</style>\n",
       "<table border=\"1\" class=\"dataframe\">\n",
       "  <thead>\n",
       "    <tr style=\"text-align: right;\">\n",
       "      <th></th>\n",
       "      <th>LCLid</th>\n",
       "      <th>stdorToU</th>\n",
       "      <th>DateTime</th>\n",
       "      <th>KWh</th>\n",
       "      <th>Acorn</th>\n",
       "      <th>Acorn_grouped</th>\n",
       "    </tr>\n",
       "  </thead>\n",
       "  <tbody>\n",
       "    <tr>\n",
       "      <th>0</th>\n",
       "      <td>MAC000002</td>\n",
       "      <td>Std</td>\n",
       "      <td>2012-10-12 00:30:00.0000000</td>\n",
       "      <td>0.0</td>\n",
       "      <td>ACORN-A</td>\n",
       "      <td>Affluent</td>\n",
       "    </tr>\n",
       "    <tr>\n",
       "      <th>1</th>\n",
       "      <td>MAC000002</td>\n",
       "      <td>Std</td>\n",
       "      <td>2012-10-12 01:00:00.0000000</td>\n",
       "      <td>0.0</td>\n",
       "      <td>ACORN-A</td>\n",
       "      <td>Affluent</td>\n",
       "    </tr>\n",
       "    <tr>\n",
       "      <th>2</th>\n",
       "      <td>MAC000002</td>\n",
       "      <td>Std</td>\n",
       "      <td>2012-10-12 01:30:00.0000000</td>\n",
       "      <td>0.0</td>\n",
       "      <td>ACORN-A</td>\n",
       "      <td>Affluent</td>\n",
       "    </tr>\n",
       "    <tr>\n",
       "      <th>3</th>\n",
       "      <td>MAC000002</td>\n",
       "      <td>Std</td>\n",
       "      <td>2012-10-12 02:00:00.0000000</td>\n",
       "      <td>0.0</td>\n",
       "      <td>ACORN-A</td>\n",
       "      <td>Affluent</td>\n",
       "    </tr>\n",
       "    <tr>\n",
       "      <th>4</th>\n",
       "      <td>MAC000002</td>\n",
       "      <td>Std</td>\n",
       "      <td>2012-10-12 02:30:00.0000000</td>\n",
       "      <td>0.0</td>\n",
       "      <td>ACORN-A</td>\n",
       "      <td>Affluent</td>\n",
       "    </tr>\n",
       "  </tbody>\n",
       "</table>\n",
       "</div>"
      ],
      "text/plain": [
       "       LCLid stdorToU                     DateTime  KWh    Acorn Acorn_grouped\n",
       "0  MAC000002      Std  2012-10-12 00:30:00.0000000  0.0  ACORN-A      Affluent\n",
       "1  MAC000002      Std  2012-10-12 01:00:00.0000000  0.0  ACORN-A      Affluent\n",
       "2  MAC000002      Std  2012-10-12 01:30:00.0000000  0.0  ACORN-A      Affluent\n",
       "3  MAC000002      Std  2012-10-12 02:00:00.0000000  0.0  ACORN-A      Affluent\n",
       "4  MAC000002      Std  2012-10-12 02:30:00.0000000  0.0  ACORN-A      Affluent"
      ]
     },
     "execution_count": 2,
     "metadata": {},
     "output_type": "execute_result"
    }
   ],
   "source": [
    "power = pd.read_csv(\"Power-Networks-LCL.csv\")\n",
    "power.head()"
   ]
  },
  {
   "cell_type": "code",
   "execution_count": 3,
   "metadata": {},
   "outputs": [
    {
     "name": "stdout",
     "output_type": "stream",
     "text": [
      "<class 'pandas.core.frame.DataFrame'>\n",
      "RangeIndex: 999971 entries, 0 to 999970\n",
      "Data columns (total 6 columns):\n",
      "LCLid            999971 non-null object\n",
      "stdorToU         999971 non-null object\n",
      "DateTime         999971 non-null object\n",
      "KWh              999971 non-null float64\n",
      "Acorn            999971 non-null object\n",
      "Acorn_grouped    999971 non-null object\n",
      "dtypes: float64(1), object(5)\n",
      "memory usage: 45.8+ MB\n"
     ]
    }
   ],
   "source": [
    "power.info()"
   ]
  },
  {
   "cell_type": "code",
   "execution_count": 4,
   "metadata": {},
   "outputs": [],
   "source": [
    "power['datetime'] = pd.to_datetime(power['DateTime'])"
   ]
  },
  {
   "cell_type": "code",
   "execution_count": 5,
   "metadata": {},
   "outputs": [],
   "source": [
    "#power['datetime'][0].hour"
   ]
  },
  {
   "cell_type": "code",
   "execution_count": 6,
   "metadata": {},
   "outputs": [],
   "source": [
    "class EnglandAndWalesHolidayCalendar(AbstractHolidayCalendar):\n",
    "    rules = [\n",
    "        Holiday('New Years Day', month=1, day=1, observance=next_monday),\n",
    "        GoodFriday,\n",
    "        EasterMonday,\n",
    "        Holiday('Early May bank holiday',\n",
    "                month=5, day=1, offset=DateOffset(weekday=MO(1))),\n",
    "        Holiday('Spring bank holiday',\n",
    "                month=5, day=31, offset=DateOffset(weekday=MO(-1))),\n",
    "        Holiday('Summer bank holiday',\n",
    "                month=8, day=31, offset=DateOffset(weekday=MO(-1))),\n",
    "        Holiday('Christmas Day', month=12, day=25, observance=next_monday),\n",
    "        Holiday('Boxing Day',\n",
    "                month=12, day=26, observance=next_monday_or_tuesday)\n",
    "    ]"
   ]
  },
  {
   "cell_type": "code",
   "execution_count": 7,
   "metadata": {},
   "outputs": [],
   "source": [
    "cal = EnglandAndWalesHolidayCalendar()\n",
    "holidays = cal.holidays()\n",
    "power['isHoliday'] = power['datetime'].isin(holidays)"
   ]
  },
  {
   "cell_type": "code",
   "execution_count": 8,
   "metadata": {},
   "outputs": [],
   "source": [
    "power['year'] = power['datetime'].dt.year\n",
    "power['month'] = power['datetime'].dt.month\n",
    "power['day'] = power['datetime'].dt.day\n",
    "power['weekday'] = power['datetime'].dt.weekday_name\n",
    "power['dayOfyear'] = power['datetime'].dt.dayofyear\n",
    "power['time'] = power['datetime'].dt.time\n",
    "power['hour'] = power['datetime'].dt.hour"
   ]
  },
  {
   "cell_type": "code",
   "execution_count": 9,
   "metadata": {},
   "outputs": [
    {
     "data": {
      "text/html": [
       "<div>\n",
       "<style scoped>\n",
       "    .dataframe tbody tr th:only-of-type {\n",
       "        vertical-align: middle;\n",
       "    }\n",
       "\n",
       "    .dataframe tbody tr th {\n",
       "        vertical-align: top;\n",
       "    }\n",
       "\n",
       "    .dataframe thead th {\n",
       "        text-align: right;\n",
       "    }\n",
       "</style>\n",
       "<table border=\"1\" class=\"dataframe\">\n",
       "  <thead>\n",
       "    <tr style=\"text-align: right;\">\n",
       "      <th></th>\n",
       "      <th>LCLid</th>\n",
       "      <th>stdorToU</th>\n",
       "      <th>DateTime</th>\n",
       "      <th>KWh</th>\n",
       "      <th>Acorn</th>\n",
       "      <th>Acorn_grouped</th>\n",
       "      <th>datetime</th>\n",
       "      <th>isHoliday</th>\n",
       "      <th>year</th>\n",
       "      <th>month</th>\n",
       "      <th>day</th>\n",
       "      <th>weekday</th>\n",
       "      <th>dayOfyear</th>\n",
       "      <th>time</th>\n",
       "      <th>hour</th>\n",
       "    </tr>\n",
       "  </thead>\n",
       "  <tbody>\n",
       "    <tr>\n",
       "      <th>0</th>\n",
       "      <td>MAC000002</td>\n",
       "      <td>Std</td>\n",
       "      <td>2012-10-12 00:30:00.0000000</td>\n",
       "      <td>0.0</td>\n",
       "      <td>ACORN-A</td>\n",
       "      <td>Affluent</td>\n",
       "      <td>2012-10-12 00:30:00</td>\n",
       "      <td>False</td>\n",
       "      <td>2012</td>\n",
       "      <td>10</td>\n",
       "      <td>12</td>\n",
       "      <td>Friday</td>\n",
       "      <td>286</td>\n",
       "      <td>00:30:00</td>\n",
       "      <td>0</td>\n",
       "    </tr>\n",
       "    <tr>\n",
       "      <th>1</th>\n",
       "      <td>MAC000002</td>\n",
       "      <td>Std</td>\n",
       "      <td>2012-10-12 01:00:00.0000000</td>\n",
       "      <td>0.0</td>\n",
       "      <td>ACORN-A</td>\n",
       "      <td>Affluent</td>\n",
       "      <td>2012-10-12 01:00:00</td>\n",
       "      <td>False</td>\n",
       "      <td>2012</td>\n",
       "      <td>10</td>\n",
       "      <td>12</td>\n",
       "      <td>Friday</td>\n",
       "      <td>286</td>\n",
       "      <td>01:00:00</td>\n",
       "      <td>1</td>\n",
       "    </tr>\n",
       "    <tr>\n",
       "      <th>2</th>\n",
       "      <td>MAC000002</td>\n",
       "      <td>Std</td>\n",
       "      <td>2012-10-12 01:30:00.0000000</td>\n",
       "      <td>0.0</td>\n",
       "      <td>ACORN-A</td>\n",
       "      <td>Affluent</td>\n",
       "      <td>2012-10-12 01:30:00</td>\n",
       "      <td>False</td>\n",
       "      <td>2012</td>\n",
       "      <td>10</td>\n",
       "      <td>12</td>\n",
       "      <td>Friday</td>\n",
       "      <td>286</td>\n",
       "      <td>01:30:00</td>\n",
       "      <td>1</td>\n",
       "    </tr>\n",
       "    <tr>\n",
       "      <th>3</th>\n",
       "      <td>MAC000002</td>\n",
       "      <td>Std</td>\n",
       "      <td>2012-10-12 02:00:00.0000000</td>\n",
       "      <td>0.0</td>\n",
       "      <td>ACORN-A</td>\n",
       "      <td>Affluent</td>\n",
       "      <td>2012-10-12 02:00:00</td>\n",
       "      <td>False</td>\n",
       "      <td>2012</td>\n",
       "      <td>10</td>\n",
       "      <td>12</td>\n",
       "      <td>Friday</td>\n",
       "      <td>286</td>\n",
       "      <td>02:00:00</td>\n",
       "      <td>2</td>\n",
       "    </tr>\n",
       "    <tr>\n",
       "      <th>4</th>\n",
       "      <td>MAC000002</td>\n",
       "      <td>Std</td>\n",
       "      <td>2012-10-12 02:30:00.0000000</td>\n",
       "      <td>0.0</td>\n",
       "      <td>ACORN-A</td>\n",
       "      <td>Affluent</td>\n",
       "      <td>2012-10-12 02:30:00</td>\n",
       "      <td>False</td>\n",
       "      <td>2012</td>\n",
       "      <td>10</td>\n",
       "      <td>12</td>\n",
       "      <td>Friday</td>\n",
       "      <td>286</td>\n",
       "      <td>02:30:00</td>\n",
       "      <td>2</td>\n",
       "    </tr>\n",
       "  </tbody>\n",
       "</table>\n",
       "</div>"
      ],
      "text/plain": [
       "       LCLid stdorToU                     DateTime  KWh    Acorn  \\\n",
       "0  MAC000002      Std  2012-10-12 00:30:00.0000000  0.0  ACORN-A   \n",
       "1  MAC000002      Std  2012-10-12 01:00:00.0000000  0.0  ACORN-A   \n",
       "2  MAC000002      Std  2012-10-12 01:30:00.0000000  0.0  ACORN-A   \n",
       "3  MAC000002      Std  2012-10-12 02:00:00.0000000  0.0  ACORN-A   \n",
       "4  MAC000002      Std  2012-10-12 02:30:00.0000000  0.0  ACORN-A   \n",
       "\n",
       "  Acorn_grouped            datetime  isHoliday  year  month  day weekday  \\\n",
       "0      Affluent 2012-10-12 00:30:00      False  2012     10   12  Friday   \n",
       "1      Affluent 2012-10-12 01:00:00      False  2012     10   12  Friday   \n",
       "2      Affluent 2012-10-12 01:30:00      False  2012     10   12  Friday   \n",
       "3      Affluent 2012-10-12 02:00:00      False  2012     10   12  Friday   \n",
       "4      Affluent 2012-10-12 02:30:00      False  2012     10   12  Friday   \n",
       "\n",
       "   dayOfyear      time  hour  \n",
       "0        286  00:30:00     0  \n",
       "1        286  01:00:00     1  \n",
       "2        286  01:30:00     1  \n",
       "3        286  02:00:00     2  \n",
       "4        286  02:30:00     2  "
      ]
     },
     "execution_count": 9,
     "metadata": {},
     "output_type": "execute_result"
    }
   ],
   "source": [
    "power.head()"
   ]
  },
  {
   "cell_type": "code",
   "execution_count": 10,
   "metadata": {},
   "outputs": [],
   "source": [
    "lclid_group = power.groupby(['LCLid'])\n",
    "dayofyear_group = power.groupby(['dayOfyear'])\n",
    "weekday_group = power.groupby(['weekday'])\n",
    "acorn_group = power.groupby(['Acorn_grouped'])\n",
    "year_group = power.groupby(['year'])\n",
    "month_group = power.groupby(['month'])\n",
    "hour_group = power.groupby(['hour'])\n",
    "holiday_group = power.groupby(['isHoliday'])"
   ]
  },
  {
   "cell_type": "code",
   "execution_count": 11,
   "metadata": {},
   "outputs": [],
   "source": [
    "# print(lclid_group.mean())\n",
    "# print(dayofyear_group.mean())\n",
    "# print(weekday_group.mean())\n",
    "# print(acorn_group.mean())"
   ]
  },
  {
   "cell_type": "code",
   "execution_count": 12,
   "metadata": {},
   "outputs": [
    {
     "data": {
      "image/png": "[encoded data removed]",
      "text/plain": [
       "<Figure size 432x288 with 1 Axes>"
      ]
     },
     "metadata": {},
     "output_type": "display_data"
    }
   ],
   "source": [
    "dayofyear_group['KWh'].mean().plot()\n",
    "plt.xlabel('Day of Year')\n",
    "plt.ylabel('Mean Energy Consumed in KWh')\n",
    "plt.show()"
   ]
  },
  {
   "cell_type": "code",
   "execution_count": 13,
   "metadata": {},
   "outputs": [
    {
     "data": {
      "image/png": "[encoded data removed]",
      "text/plain": [
       "<Figure size 432x288 with 1 Axes>"
      ]
     },
     "metadata": {},
     "output_type": "display_data"
    }
   ],
   "source": [
    "year_group['KWh'].mean().plot()\n",
    "plt.xlabel('Year')\n",
    "plt.ylabel('Mean Energy Consumed in KWh')\n",
    "plt.show()"
   ]
  },
  {
   "cell_type": "code",
   "execution_count": 14,
   "metadata": {},
   "outputs": [
    {
     "data": {
      "image/png": "[encoded data removed]",
      "text/plain": [
       "<Figure size 432x288 with 1 Axes>"
      ]
     },
     "metadata": {},
     "output_type": "display_data"
    }
   ],
   "source": [
    "hour_group['KWh'].mean().plot()\n",
    "plt.xlabel('Hour')\n",
    "plt.ylabel('Mean Energy Consumed in KWh')\n",
    "plt.show()"
   ]
  },
  {
   "cell_type": "code",
   "execution_count": 15,
   "metadata": {},
   "outputs": [
    {
     "data": {
      "image/png": "[encoded data removed]",
      "text/plain": [
       "<Figure size 432x288 with 1 Axes>"
      ]
     },
     "metadata": {},
     "output_type": "display_data"
    }
   ],
   "source": [
    "month_group['KWh'].mean().plot()\n",
    "plt.xlabel('Month')\n",
    "plt.ylabel('Mean Energy Consumed in KWh')\n",
    "plt.show()"
   ]
  },
  {
   "cell_type": "code",
   "execution_count": 16,
   "metadata": {},
   "outputs": [],
   "source": [
    "# print(year_group.mean())\n",
    "# print(month_group.mean())\n",
    "# print(hour_group.mean())"
   ]
  },
  {
   "cell_type": "code",
   "execution_count": 17,
   "metadata": {},
   "outputs": [
    {
     "name": "stdout",
     "output_type": "stream",
     "text": [
      "isHoliday\n",
      "False    0.239518\n",
      "True     0.362188\n",
      "Name: KWh, dtype: float64\n"
     ]
    }
   ],
   "source": [
    "print(holiday_group['KWh'].mean())"
   ]
  },
  {
   "cell_type": "code",
   "execution_count": 42,
   "metadata": {},
   "outputs": [
    {
     "name": "stdout",
     "output_type": "stream",
     "text": [
      "[('MAC000036', 16175), ('MAC000016', 19523), ('MAC000011', 23704), ('MAC000002', 24157), ('MAC000012', 24669), ('MAC000007', 25045), ('MAC000010', 25048), ('MAC000009', 25237), ('MAC000008', 26012), ('MAC000013', 29613), ('MAC000004', 31676), ('MAC000028', 32157), ('MAC000003', 35468), ('MAC000006', 36460), ('MAC000035', 39023), ('MAC000024', 39026), ('MAC000029', 39063), ('MAC000025', 39064), ('MAC000026', 39064), ('MAC000030', 39066), ('MAC000032', 39068), ('MAC000023', 39068), ('MAC000027', 39068), ('MAC000034', 39069), ('MAC000019', 39070), ('MAC000033', 39070), ('MAC000022', 39071), ('MAC000021', 39078), ('MAC000020', 39078), ('MAC000018', 39081)]\n"
     ]
    }
   ],
   "source": [
    "d = dict()\n",
    "for house in set(power['LCLid']):\n",
    "    d[house] = len(power[power['LCLid'] == house])\n",
    "sorted_x = sorted(d.items(), key=lambda kv: kv[1])\n",
    "print(sorted_x)"
   ]
  },
  {
   "cell_type": "markdown",
   "metadata": {},
   "source": [
    "The Households with the highest hourly samples are:\n",
    "1.MAC000018\n",
    "2.MAC000020\n",
    "3.MAC000021"
   ]
  },
  {
   "cell_type": "code",
   "execution_count": null,
   "metadata": {},
   "outputs": [],
   "source": []
  }
 ],
 "metadata": {
  "kernelspec": {
   "display_name": "Python 3",
   "language": "python",
   "name": "python3"
  },
  "language_info": {
   "codemirror_mode": {
    "name": "ipython",
    "version": 3
   },
   "file_extension": ".py",
   "mimetype": "text/x-python",
   "name": "python",
   "nbconvert_exporter": "python",
   "pygments_lexer": "ipython3",
   "version": "3.6.7"
  }
 },
 "nbformat": 4,
 "nbformat_minor": 2
}
